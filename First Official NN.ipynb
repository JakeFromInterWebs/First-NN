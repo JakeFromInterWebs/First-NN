{
 "cells": [
  {
   "cell_type": "code",
   "execution_count": 1,
   "metadata": {},
   "outputs": [],
   "source": [
    "%matplotlib inline"
   ]
  },
  {
   "cell_type": "code",
   "execution_count": 3,
   "metadata": {},
   "outputs": [],
   "source": [
    "from matplotlib import pyplot as plt\n",
    "import numpy as np"
   ]
  },
  {
   "cell_type": "code",
   "execution_count": 5,
   "metadata": {},
   "outputs": [],
   "source": [
    "# Length, Width, color 0 = Blue 1 = Red\n",
    "data = [ [3, 1.5, 1],  #0\n",
    "         [2, 1, 0],    #1\n",
    "         [4, 1.5, 1],  #2\n",
    "         [3, 1, 0],    #3\n",
    "         [3.5, .5, 1], #4\n",
    "         [2, .5, 0],   #5\n",
    "         [5.5, 1, 1],  #6\n",
    "         [1, 1, 0]]    #6\n",
    "#Unknown flower\n",
    "mystery_flower = [4.5, 1] #0"
   ]
  },
  {
   "cell_type": "code",
   "execution_count": 15,
   "metadata": {},
   "outputs": [
    {
     "data": {
      "text/plain": [
       "1.5"
      ]
     },
     "execution_count": 15,
     "metadata": {},
     "output_type": "execute_result"
    }
   ],
   "source": [
    "#accessing Data table\n",
    "data[2][1]\n",
    "#first number = row\n",
    "#second number = list 0-2"
   ]
  },
  {
   "cell_type": "code",
   "execution_count": 16,
   "metadata": {},
   "outputs": [],
   "source": [
    "  #network\n",
    "#    o    Flower type.\n",
    "#   / \\   w1, w2, b.\n",
    "#  o   o  Length, Width.\n",
    "\n",
    "w1 = np.random.randn() #Random number for Weight-1\n",
    "w2 = np.random.randn() #Random number for Weight-2\n",
    "b  = np.random.randn() #Random number for Bias\n"
   ]
  },
  {
   "cell_type": "code",
   "execution_count": 33,
   "metadata": {},
   "outputs": [],
   "source": [
    "#Makes a sigmoid function\n",
    "def sigmoid(x):\n",
    "    return 1/(1 + np.exp(-x))\n",
    "#Makes a sigmoid Prime fuction\n",
    "def sigmoid_p(x):\n",
    "    return sigmoid(x) * (1-sigmoid(x))"
   ]
  },
  {
   "cell_type": "code",
   "execution_count": 37,
   "metadata": {},
   "outputs": [
    {
     "data": {
      "text/plain": [
       "[<matplotlib.lines.Line2D at 0x293a5d87d68>]"
      ]
     },
     "execution_count": 37,
     "metadata": {},
     "output_type": "execute_result"
    },
    {
     "data": {
      "image/png": "[encoded data removed]",
      "text/plain": [
       "<matplotlib.figure.Figure at 0x293a5d875c0>"
      ]
     },
     "metadata": {},
     "output_type": "display_data"
    }
   ],
   "source": [
    "#Makes an array between -6 and 6. The 1000 is how many numbers go between -6 and 6\n",
    "T = np.linspace(-6, 6, 1000)\n",
    "#Makes a graph of the array for visualization note the more numbers between -6 and 6 the higher the resoloution of this graph\n",
    "#This also plugs T into Sigmoid, and Sigmoid_p which is the Prime version of sigmoid which will track the speed of our graph\n",
    "#going up Blue is Prime sigmoid and red is just sigmoid Blue is at it's highest when red is going up/down fastest and blue is at\n",
    "#it's lowest when red is going up/down at it's slowest pace\n",
    "#C='r' is just Color = red\n",
    "plt.plot(T, sigmoid(T), c='r')\n",
    "#C='b' is just Color = blue\n",
    "plt.plot(T, sigmoid_p(T), c='b')"
   ]
  },
  {
   "cell_type": "code",
   "execution_count": 43,
   "metadata": {},
   "outputs": [
    {
     "data": {
      "image/png": "[encoded data removed]",
      "text/plain": [
       "<matplotlib.figure.Figure at 0x293a5e337b8>"
      ]
     },
     "metadata": {},
     "output_type": "display_data"
    }
   ],
   "source": [
    "#Scatter data\n",
    "\n",
    "#Makes height of grid in this case 6 on X and 6 on Y \n",
    "plt.axis([0, 6, 0, 6])\n",
    "#Makes grid lines every 1 \"unit\"\n",
    "plt.grid()\n",
    "#Goes from 0 to Length\"len\" of the data table which is 7 but i wright it this way so if i add something to the data i don't have\n",
    "#To change this from 7 to however many new i created + 7\n",
    "for i in range(len(data)):\n",
    "    #\"Point = data\" will make a Point or \"dot\" on this grid, but because Point is = to data it will make \"dots\" where our data\n",
    "    #tells our point to put the \"Dots\"\n",
    "    point = data[i]\n",
    "    #Makes a color function \"r\" = Red\n",
    "    color = \"r\"\n",
    "    #if point[2] == 0: color = \"b\" means if point type is the same as 0 \"==\" make color \"b\" or Blue\n",
    "    if point[2] == 0:\n",
    "        color = \"b\"\n",
    "        #Makes both points have the right color for there type of \"flower\" or \"dot\"\n",
    "    plt.scatter(point[0], point[1], c=color)"
   ]
  },
  {
   "cell_type": "code",
   "execution_count": 42,
   "metadata": {},
   "outputs": [
    {
     "name": "stdout",
     "output_type": "stream",
     "text": [
      "[4, 1.5, 1]\n",
      "[2, 1, 0]\n",
      "[5.5, 1, 1]\n",
      "[3.5, 0.5, 1]\n",
      "[2, 1, 0]\n",
      "[5.5, 1, 1]\n",
      "[3, 1, 0]\n",
      "[3, 1, 0]\n",
      "[4, 1.5, 1]\n",
      "[4, 1.5, 1]\n",
      "[1, 1, 0]\n",
      "[2, 1, 0]\n",
      "[3.5, 0.5, 1]\n",
      "[3, 1.5, 1]\n",
      "[5.5, 1, 1]\n",
      "[2, 0.5, 0]\n",
      "[3, 1, 0]\n",
      "[2, 0.5, 0]\n",
      "[1, 1, 0]\n",
      "[2, 0.5, 0]\n",
      "[2, 1, 0]\n",
      "[3, 1, 0]\n",
      "[5.5, 1, 1]\n",
      "[1, 1, 0]\n",
      "[3, 1.5, 1]\n",
      "[3.5, 0.5, 1]\n",
      "[3, 1, 0]\n",
      "[4, 1.5, 1]\n",
      "[3, 1, 0]\n",
      "[2, 1, 0]\n",
      "[1, 1, 0]\n",
      "[2, 1, 0]\n",
      "[3.5, 0.5, 1]\n",
      "[1, 1, 0]\n",
      "[5.5, 1, 1]\n",
      "[3, 1.5, 1]\n",
      "[2, 0.5, 0]\n",
      "[2, 0.5, 0]\n",
      "[1, 1, 0]\n",
      "[4, 1.5, 1]\n",
      "[5.5, 1, 1]\n",
      "[5.5, 1, 1]\n",
      "[2, 1, 0]\n",
      "[3.5, 0.5, 1]\n",
      "[3.5, 0.5, 1]\n",
      "[2, 1, 0]\n",
      "[5.5, 1, 1]\n",
      "[3.5, 0.5, 1]\n",
      "[5.5, 1, 1]\n",
      "[3, 1, 0]\n",
      "[2, 0.5, 0]\n",
      "[1, 1, 0]\n",
      "[3.5, 0.5, 1]\n",
      "[3, 1.5, 1]\n",
      "[3.5, 0.5, 1]\n",
      "[1, 1, 0]\n",
      "[3.5, 0.5, 1]\n",
      "[4, 1.5, 1]\n",
      "[3.5, 0.5, 1]\n",
      "[3, 1, 0]\n",
      "[3, 1, 0]\n",
      "[5.5, 1, 1]\n",
      "[2, 0.5, 0]\n",
      "[3, 1.5, 1]\n",
      "[2, 0.5, 0]\n",
      "[4, 1.5, 1]\n",
      "[3, 1.5, 1]\n",
      "[4, 1.5, 1]\n",
      "[2, 1, 0]\n",
      "[4, 1.5, 1]\n",
      "[3, 1.5, 1]\n",
      "[5.5, 1, 1]\n",
      "[1, 1, 0]\n",
      "[3, 1, 0]\n",
      "[3, 1.5, 1]\n",
      "[3, 1, 0]\n",
      "[1, 1, 0]\n",
      "[2, 0.5, 0]\n",
      "[4, 1.5, 1]\n",
      "[5.5, 1, 1]\n",
      "[5.5, 1, 1]\n",
      "[3.5, 0.5, 1]\n",
      "[5.5, 1, 1]\n",
      "[3, 1, 0]\n",
      "[2, 0.5, 0]\n",
      "[4, 1.5, 1]\n",
      "[4, 1.5, 1]\n",
      "[1, 1, 0]\n",
      "[5.5, 1, 1]\n",
      "[2, 0.5, 0]\n",
      "[2, 0.5, 0]\n",
      "[3.5, 0.5, 1]\n",
      "[2, 0.5, 0]\n",
      "[1, 1, 0]\n",
      "[4, 1.5, 1]\n",
      "[2, 1, 0]\n",
      "[5.5, 1, 1]\n",
      "[5.5, 1, 1]\n",
      "[2, 0.5, 0]\n",
      "[2, 1, 0]\n"
     ]
    }
   ],
   "source": [
    "#Training Data\n",
    "#for i in range(100): will run the code 100 times\n",
    "for i in range(100):\n",
    "    #This will randomly select some random data from our data table - \n",
    "    ri = np.random.randint(len(data))\n",
    "    point = data[ri]\n",
    "    #this will print the data so we can see if it is working\n",
    "    print(point)"
   ]
  },
  {
   "cell_type": "code",
   "execution_count": null,
   "metadata": {},
   "outputs": [],
   "source": []
  }
 ],
 "metadata": {
  "kernelspec": {
   "display_name": "Python 3",
   "language": "python",
   "name": "python3"
  },
  "language_info": {
   "codemirror_mode": {
    "name": "ipython",
    "version": 3
   },
   "file_extension": ".py",
   "mimetype": "text/x-python",
   "name": "python",
   "nbconvert_exporter": "python",
   "pygments_lexer": "ipython3",
   "version": "3.6.4"
  }
 },
 "nbformat": 4,
 "nbformat_minor": 2
}
